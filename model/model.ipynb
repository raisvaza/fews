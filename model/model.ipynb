{
 "cells": [
  {
   "cell_type": "code",
   "execution_count": 1,
   "metadata": {},
   "outputs": [],
   "source": [
    "import tensorflow as tf\n",
    "from tensorflow import keras\n",
    "from sklearn.datasets import make_regression\n",
    "from sklearn.model_selection import train_test_split\n",
    "import numpy as np"
   ]
  },
  {
   "cell_type": "markdown",
   "metadata": {},
   "source": [
    "# Data Preparation"
   ]
  },
  {
   "cell_type": "code",
   "execution_count": null,
   "metadata": {},
   "outputs": [],
   "source": [
    "# lead time: berapa jarak forecast-nya?\n",
    "# X = [wl(t-5), wl(t-4),wl(t-3), wl(t-2), wl(t-1), rf(t-5), rf(t-4), rf(t-3), rf(t-2), rf(t-1)], y = wl(t)\n",
    "\n",
    "# VARIABLE SELECTION\n"
   ]
  },
  {
   "cell_type": "code",
   "execution_count": null,
   "metadata": {},
   "outputs": [],
   "source": []
  },
  {
   "cell_type": "code",
   "execution_count": 2,
   "metadata": {},
   "outputs": [],
   "source": [
    "# Nash-Sutcliffe Efficiency NEED TO BE VERIFIED\n",
    "def nse(y_true, y_pred):\n",
    "    numerator = tf.reduce_sum(tf.square(tf.subtract(y_true, y_pred)))\n",
    "    denominator = tf.reduce_sum(tf.square(tf.subtract(y_true, tf.reduce_mean(y_true))))\n",
    "    \n",
    "    nse = 1 - (numerator / denominator)\n",
    "    \n",
    "    return nse\n",
    "\n",
    "# Kling-Gupta Efficiency NEED TO BE VERIFIED\n",
    "def kge(y_true, y_pred):\n",
    "    # Calculate r (correlation coefficient)\n",
    "    r = tf.reduce_sum((y_true - tf.reduce_mean(y_true)) * (y_pred - tf.reduce_mean(y_pred))\n",
    "                      / (tf.sqrt(tf.reduce_sum(tf.square(y_true - tf.reduce_mean(y_true))) * tf.reduce_sum(tf.square(y_pred - tf.reduce_mean(y_pred))))))\n",
    "\n",
    "    # Calculate alpha (standard deviation ratio)\n",
    "    alpha = tf.sqrt(tf.reduce_sum(tf.square(y_pred - tf.reduce_mean(y_pred))) / tf.reduce_sum(tf.square(y_true - tf.reduce_mean(y_true))))\n",
    "\n",
    "    # Calculate beta (mean ratio)\n",
    "    beta = tf.reduce_mean(y_pred) / tf.reduce_mean(y_true)\n",
    "\n",
    "    # Calculate KGE\n",
    "    kge = 1 - tf.sqrt((r - 1)**2 + (alpha - 1)**2 + (beta - 1)**2)\n",
    "\n",
    "    return kge"
   ]
  },
  {
   "cell_type": "markdown",
   "metadata": {},
   "source": [
    "# ANN"
   ]
  },
  {
   "cell_type": "code",
   "execution_count": 10,
   "metadata": {},
   "outputs": [],
   "source": [
    "metrics = ['mse', 'mae', kge, nse]"
   ]
  },
  {
   "cell_type": "code",
   "execution_count": 9,
   "metadata": {},
   "outputs": [
    {
     "name": "stdout",
     "output_type": "stream",
     "text": [
      "25/25 [==============================] - 0s 6ms/step - loss: 157.3968 - mae: 157.3968 - mse: 37641.2031 - val_loss: 157.0361 - val_mae: 157.0361 - val_mse: 38653.1797\n"
     ]
    }
   ],
   "source": [
    "# Generate a toy dataset for regression\n",
    "X, y = make_regression(n_samples=1000, n_features=20, noise=0.1, random_state=42)\n",
    "\n",
    "# Split the data into training and testing sets\n",
    "X_train, X_test, y_train, y_test = train_test_split(X, y, test_size=0.2, random_state=42)\n",
    "\n",
    "# Create a simple ANN model for regression\n",
    "model = keras.Sequential([\n",
    "    keras.layers.Input(shape=(20,)),        # Input layer with 20 features\n",
    "    keras.layers.Dense(32, activation='relu'),  # Hidden layer with 32 neurons and ReLU activation\n",
    "    keras.layers.Dense(1)                    # Output layer for regression (no activation function)\n",
    "])\n",
    "\n",
    "# Compile the model\n",
    "model.compile(optimizer='adam', loss='mean_absolute_error', metrics=metrics)\n",
    "\n",
    "# Train the model\n",
    "history = model.fit(X_train, y_train, epochs=1, batch_size=32, validation_data=(X_test, y_test))\n"
   ]
  },
  {
   "cell_type": "markdown",
   "metadata": {},
   "source": [
    "# RNN"
   ]
  },
  {
   "cell_type": "code",
   "execution_count": null,
   "metadata": {},
   "outputs": [],
   "source": [
    "# Generate some example data\n",
    "# Replace this with  actual dataset\n",
    "data = np.random.rand(100, 2)  # Simulated data with 2 features (rainfall and water level)\n",
    "\n",
    "# Split the data into input (X) and output (y)\n",
    "X = data[:-1]  # Input at time t (rainfall and water level)\n",
    "y = data[1:, 1]  # Output at time t+1 (water level)\n",
    "\n",
    "# Define RNN parameters\n",
    "input_dim = 2  # Number of input features (rainfall and water level)\n",
    "hidden_units = 64  # Number of RNN units\n",
    "output_dim = 1  # Number of output features (water level prediction)\n",
    "\n",
    "# Create the RNN model\n",
    "model = tf.keras.Sequential([\n",
    "    tf.keras.layers.SimpleRNN(units=hidden_units, activation='tanh', input_shape=(None, input_dim), return_sequences=False),\n",
    "    tf.keras.layers.Dense(output_dim)\n",
    "])\n",
    "\n",
    "# Compile the model\n",
    "model.compile(optimizer='adam', loss='mean_squared_error')\n",
    "\n",
    "# Reshape the data to fit the RNN input shape\n",
    "X = X.reshape(-1, 1, input_dim)\n",
    "\n",
    "# Train the model\n",
    "model.fit(X, y, epochs=10, batch_size=1)\n",
    "\n",
    "# Now you can use the trained model for predictions\n",
    "# For example, to predict water level at t+1 based on input at t\n",
    "input_t = np.array([[0.5, 0.6]])  # Replace with  input data\n",
    "input_t = input_t.reshape(1, 1, input_dim)\n",
    "prediction_t_plus_1 = model.predict(input_t)\n",
    "\n",
    "print(\"Predicted Water Level at t+1:\", prediction_t_plus_1[0, 0])\n"
   ]
  },
  {
   "cell_type": "markdown",
   "metadata": {},
   "source": [
    "# GRU"
   ]
  },
  {
   "cell_type": "code",
   "execution_count": null,
   "metadata": {},
   "outputs": [],
   "source": [
    "# Generate and preprocess  data as before\n",
    "\n",
    "# Define GRU parameters\n",
    "input_dim = 2  # Number of input features (rainfall and water level)\n",
    "hidden_units = 64  # Number of GRU units\n",
    "output_dim = 1  # Number of output features (water level prediction)\n",
    "\n",
    "# Create the GRU model\n",
    "model = tf.keras.Sequential([\n",
    "    tf.keras.layers.GRU(units=hidden_units, activation='tanh', input_shape=(None, input_dim), return_sequences=False),\n",
    "    tf.keras.layers.Dense(output_dim)\n",
    "])\n",
    "\n",
    "# Compile the model\n",
    "model.compile(optimizer='adam', loss='mean_squared_error')\n",
    "\n",
    "# Reshape the data to fit the GRU input shape\n",
    "X = X.reshape(-1, 1, input_dim)\n",
    "\n",
    "# Train the model as before\n",
    "\n",
    "# To predict water level at t+1 based on input at t using the trained model\n",
    "input_t = np.array([[0.5, 0.6]])  # Replace with  input data\n",
    "input_t = input_t.reshape(1, 1, input_dim)\n",
    "prediction_t_plus_1 = model.predict(input_t)\n",
    "\n",
    "print(\"Predicted Water Level at t+1:\", prediction_t_plus_1[0, 0])\n"
   ]
  },
  {
   "cell_type": "markdown",
   "metadata": {},
   "source": [
    "# LSTM"
   ]
  },
  {
   "cell_type": "markdown",
   "metadata": {},
   "source": [
    "# Generate and preprocess data as before\n",
    "\n",
    "# Define LSTM parameters\n",
    "input_dim = 2  # Number of input features (rainfall and water level)\n",
    "hidden_units = 64  # Number of LSTM units\n",
    "output_dim = 1  # Number of output features (water level prediction)\n",
    "\n",
    "# Create the LSTM model\n",
    "model = tf.keras.Sequential([\n",
    "    tf.keras.layers.LSTM(units=hidden_units, activation='tanh', input_shape=(None, input_dim), return_sequences=False),\n",
    "    tf.keras.layers.Dense(output_dim)\n",
    "])\n",
    "\n",
    "# Compile the model\n",
    "model.compile(optimizer='adam', loss='mean_squared_error')\n",
    "\n",
    "# Reshape the data to fit the LSTM input shape\n",
    "X = X.reshape(-1, 1, input_dim)\n",
    "\n",
    "# Train the model as before\n",
    "\n",
    "# To predict water level at t+1 based on input at t using the trained model\n",
    "input_t = np.array([[0.5, 0.6]])  # Replace with  input data\n",
    "input_t = input_t.reshape(1, 1, input_dim)\n",
    "prediction_t_plus_1 = model.predict(input_t)\n",
    "\n",
    "print(\"Predicted Water Level at t+1:\", prediction_t_plus_1[0, 0])\n"
   ]
  }
 ],
 "metadata": {
  "kernelspec": {
   "display_name": "Python 3",
   "language": "python",
   "name": "python3"
  },
  "language_info": {
   "codemirror_mode": {
    "name": "ipython",
    "version": 3
   },
   "file_extension": ".py",
   "mimetype": "text/x-python",
   "name": "python",
   "nbconvert_exporter": "python",
   "pygments_lexer": "ipython3",
   "version": "3.11.5"
  }
 },
 "nbformat": 4,
 "nbformat_minor": 2
}
